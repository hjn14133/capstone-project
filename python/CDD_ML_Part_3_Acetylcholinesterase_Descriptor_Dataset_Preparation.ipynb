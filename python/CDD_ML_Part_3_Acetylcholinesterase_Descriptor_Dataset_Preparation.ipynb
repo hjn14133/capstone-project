{
  "nbformat": 4,
  "nbformat_minor": 0,
  "metadata": {
    "colab": {
      "name": "CDD-ML-Part-3-Acetylcholinesterase-Descriptor-Dataset-Preparation.ipynb",
      "provenance": [],
      "collapsed_sections": []
    },
    "kernelspec": {
      "name": "python3",
      "display_name": "Python 3"
    }
  },
  "cells": [
    {
      "cell_type": "markdown",
      "metadata": {
        "id": "l0Y7_lgN4jzM"
      },
      "source": [
        "# **Bioinformatics Project - Computational Drug Discovery [Part 3] Descriptor Calculation and Dataset Preparation**\n",
        "\n",
        "Chanin Nantasenamat\n",
        "\n",
        "[*'Data Professor' YouTube channel*](http://youtube.com/dataprofessor)\n",
        "\n",
        "In this Jupyter notebook, we will be building a real-life **data science project** that you can include in your **data science portfolio**. Particularly, we will be building a machine learning model using the ChEMBL bioactivity data.\n",
        "\n",
        "In **Part 3**, we will be calculating molecular descriptors that are essentially quantitative description of the compounds in the dataset. Finally, we will be preparing this into a dataset for subsequent model building in Part 4.\n",
        "\n",
        "---"
      ]
    },
    {
      "cell_type": "markdown",
      "metadata": {
        "id": "o-4IOizard4P"
      },
      "source": [
        "## **Download PaDEL-Descriptor**"
      ]
    },
    {
      "cell_type": "code",
      "metadata": {
        "id": "H0mjQ2PcrSe5"
      },
      "source": [
        "! wget https://github.com/dataprofessor/bioinformatics/raw/master/padel.zip\n",
        "! wget https://github.com/dataprofessor/bioinformatics/raw/master/padel.sh"
      ],
      "execution_count": null,
      "outputs": []
    },
    {
      "cell_type": "code",
      "metadata": {
        "id": "64HnTL4tS-nA"
      },
      "source": [
        "! unzip padel.zip"
      ],
      "execution_count": null,
      "outputs": []
    },
    {
      "cell_type": "markdown",
      "metadata": {
        "id": "QmxXXFa4wTNG"
      },
      "source": [
        "## **Load bioactivity data**"
      ]
    },
    {
      "cell_type": "markdown",
      "metadata": {
        "id": "fcBvxkPWKFRV"
      },
      "source": [
        "Download the curated ChEMBL bioactivity data that has been pre-processed from Parts 1 and 2 of this Bioinformatics Project series. Here we will be using the **bioactivity_data_3class_pIC50.csv** file that essentially contain the pIC50 values that we will be using for building a regression model."
      ]
    },
    {
      "cell_type": "code",
      "metadata": {
        "id": "JBs7QdJoubWC"
      },
      "source": [
        "! wget https://raw.githubusercontent.com/dataprofessor/data/master/acetylcholinesterase_04_bioactivity_data_3class_pIC50.csv"
      ],
      "execution_count": null,
      "outputs": []
    },
    {
      "cell_type": "code",
      "metadata": {
        "id": "Fpu5C7HlwV9s"
      },
      "source": [
        "import pandas as pd"
      ],
      "execution_count": 4,
      "outputs": []
    },
    {
      "cell_type": "code",
      "metadata": {
        "id": "GCcE8J5XwjtB"
      },
      "source": [
        "df3 = pd.read_csv('acetylcholinesterase_04_bioactivity_data_3class_pIC50.csv')"
      ],
      "execution_count": 5,
      "outputs": []
    },
    {
      "cell_type": "code",
      "metadata": {
        "id": "60z_N6egNiSJ"
      },
      "source": [
        "df3.head()"
      ],
      "execution_count": null,
      "outputs": []
    },
    {
      "cell_type": "code",
      "metadata": {
        "id": "BJDJkY43R-9F"
      },
      "source": [
        "selection = ['canonical_smiles','molecule_chembl_id']\n",
        "df3_selection = df3[selection]\n",
        "df3_selection.to_csv('molecule.smi', sep='\\t', index=False, header=False)"
      ],
      "execution_count": 7,
      "outputs": []
    },
    {
      "cell_type": "code",
      "metadata": {
        "id": "nRSCoPVDSkf5"
      },
      "source": [
        "! cat molecule.smi | head -5"
      ],
      "execution_count": null,
      "outputs": []
    },
    {
      "cell_type": "code",
      "metadata": {
        "id": "GlYaJ9pzUGjS",
        "colab": {
          "base_uri": "https://localhost:8080/"
        },
        "outputId": "d590e735-5746-4f20-80e4-635a47f66aa2"
      },
      "source": [
        "! cat molecule.smi | wc -l"
      ],
      "execution_count": 9,
      "outputs": [
        {
          "output_type": "stream",
          "name": "stdout",
          "text": [
            "4695\n"
          ]
        }
      ]
    },
    {
      "cell_type": "markdown",
      "metadata": {
        "id": "YzN_S4Quro5S"
      },
      "source": [
        "## **Calculate fingerprint descriptors**\n"
      ]
    },
    {
      "cell_type": "markdown",
      "metadata": {
        "id": "JsgTV-ByxdMa"
      },
      "source": [
        "### **Calculate PaDEL descriptors**"
      ]
    },
    {
      "cell_type": "code",
      "metadata": {
        "id": "hSCopQvEiSMj"
      },
      "source": [
        "! cat padel.sh"
      ],
      "execution_count": null,
      "outputs": []
    },
    {
      "cell_type": "code",
      "metadata": {
        "id": "6kN9jrGpS5nE"
      },
      "source": [
        "! bash padel.sh"
      ],
      "execution_count": null,
      "outputs": []
    },
    {
      "cell_type": "code",
      "metadata": {
        "id": "2p7rAVy_k_hH"
      },
      "source": [
        "! ls -l"
      ],
      "execution_count": null,
      "outputs": []
    },
    {
      "cell_type": "markdown",
      "metadata": {
        "id": "gUMlPfFrxicj"
      },
      "source": [
        "## **Preparing the X and Y Data Matrices**"
      ]
    },
    {
      "cell_type": "markdown",
      "metadata": {
        "id": "30aa4WP4ZA8M"
      },
      "source": [
        "### **X data matrix**"
      ]
    },
    {
      "cell_type": "code",
      "metadata": {
        "id": "3g319qxVl7tY"
      },
      "source": [
        "df3_X = pd.read_csv('descriptors_output.csv')"
      ],
      "execution_count": 13,
      "outputs": []
    },
    {
      "cell_type": "code",
      "metadata": {
        "id": "hBp1PTObFQDd"
      },
      "source": [
        "df3_X"
      ],
      "execution_count": null,
      "outputs": []
    },
    {
      "cell_type": "code",
      "metadata": {
        "id": "dTJsDPBKq_hr"
      },
      "source": [
        "df3_X = df3_X.drop(columns=['Name'])\n",
        "df3_X"
      ],
      "execution_count": null,
      "outputs": []
    },
    {
      "cell_type": "markdown",
      "metadata": {
        "id": "6ePu814KZNBG"
      },
      "source": [
        "## **Y variable**"
      ]
    },
    {
      "cell_type": "markdown",
      "metadata": {
        "id": "9ssfxFCdr7ua"
      },
      "source": [
        "### **Convert IC50 to pIC50**"
      ]
    },
    {
      "cell_type": "code",
      "metadata": {
        "id": "FlhsSEW5FXTG"
      },
      "source": [
        "df3_Y = df3['pIC50']\n",
        "df3_Y"
      ],
      "execution_count": null,
      "outputs": []
    },
    {
      "cell_type": "markdown",
      "metadata": {
        "id": "eET6iZ1Aw3oe"
      },
      "source": [
        "## **Combining X and Y variable**"
      ]
    },
    {
      "cell_type": "code",
      "metadata": {
        "id": "FRBfBP3QxFJp"
      },
      "source": [
        "dataset3 = pd.concat([df3_X,df3_Y], axis=1)\n",
        "dataset3"
      ],
      "execution_count": null,
      "outputs": []
    },
    {
      "cell_type": "code",
      "metadata": {
        "id": "75npGyvhae0e"
      },
      "source": [
        "dataset3.to_csv('acetylcholinesterase_06_bioactivity_data_3class_pIC50_pubchem_fp.csv', index=False)"
      ],
      "execution_count": 19,
      "outputs": []
    },
    {
      "cell_type": "markdown",
      "metadata": {
        "id": "nFpLoNRHeRa6"
      },
      "source": [
        "# **Let's download the CSV file to your local computer for the Part 3B (Model Building).**"
      ]
    }
  ]
}